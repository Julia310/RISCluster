{
 "cells": [
  {
   "cell_type": "code",
   "execution_count": 2,
   "metadata": {},
   "outputs": [],
   "source": [
    "from datetime import datetime\n",
    "import os\n",
    "import sys\n",
    "sys.path.insert(0, '../../RISClusterPT/')\n",
    "\n",
    "import h5py\n",
    "import matplotlib.pyplot as plt\n",
    "import numpy as np\n",
    "import pandas as pd\n",
    "import torch\n",
    "import torch.nn.functional as F\n",
    "import torch.nn as nn\n",
    "import torch.optim as optim\n",
    "from torch.utils.data import DataLoader\n",
    "from torch.utils.tensorboard import SummaryWriter\n",
    "import torchvision\n",
    "from torchvision import datasets\n",
    "import torchvision.transforms as transforms\n",
    "from torchvision.utils import save_image\n",
    "from RISCluster.processing import cluster\n",
    "from RISCluster.processing.cluster import load_data, set_loading_index\n",
    "from RISCluster.utils.utils import notify\n",
    "\n",
    "# import importlib\n",
    "# importlib.reload(cluster)"
   ]
  },
  {
   "cell_type": "code",
   "execution_count": 3,
   "metadata": {},
   "outputs": [
    {
     "name": "stdout",
     "output_type": "stream",
     "text": [
      "----------------------------------------------------------------\n",
      "H5 file has 5113 samples, 66 frequency bins, 301 time bins.\n",
      "Loading 800 samples...\n",
      "100.00% complete.\n",
      "Time elapsed = 2020-07-15 00:08:34.249882\n",
      "Shape of output is (800, 1, 64, 128)\n",
      "----------------------------------------------------------------\n",
      "----------------------------------------------------------------\n",
      "H5 file has 5113 samples, 66 frequency bins, 301 time bins.\n",
      "Loading 200 samples...\n",
      "100.00% complete.\n",
      "Time elapsed = 2020-07-15 00:08:34.358061\n",
      "Shape of output is (200, 1, 64, 128)\n",
      "----------------------------------------------------------------\n",
      "----------------------------------------------------------------\n",
      "H5 file has 5113 samples, 66 frequency bins, 301 time bins.\n",
      "Loading 1000 samples...\n",
      "100.00% complete.\n",
      "Time elapsed = 2020-07-15 00:08:34.946211\n",
      "Shape of output is (1000, 1, 64, 128)\n",
      "----------------------------------------------------------------\n"
     ]
    }
   ],
   "source": [
    "fname_dataset = '../../../Data/DetectionData.h5'\n",
    "M = int(1000)\n",
    "M_train = int(0.8 * M)\n",
    "M_val = int(0.2 * M)\n",
    "M_test = M\n",
    "LR = 0.0001     # Learning rate\n",
    "N_EPOCHS = 100  # Number of epochs\n",
    "BATCH_SZ = 128  # Batch size\n",
    "\n",
    "index_train, index_val, index_test = set_loading_index(M, fname_dataset, reserve=0.02)\n",
    "X_train, m, n, o, p, idx_sample = load_data(fname_dataset, M_train, index_train)\n",
    "X_val, m, n, o, p, idx_sample = load_data(fname_dataset, M_val, index_val)\n",
    "X_test, m, n, o, p, idx_sample = load_data(fname_dataset, M_test, index_test)"
   ]
  },
  {
   "cell_type": "code",
   "execution_count": 4,
   "metadata": {},
   "outputs": [
    {
     "name": "stdout",
     "output_type": "stream",
     "text": [
      "CUDA device not available, using CPU.\n"
     ]
    }
   ],
   "source": [
    "model = cluster.ConvAEC()\n",
    "device = torch.device(\"cuda\" if torch.cuda.is_available() else \"cpu\")\n",
    "if torch.cuda.is_available() is True:\n",
    "    print('CUDA device available, using GPU.') \n",
    "else:\n",
    "    print('CUDA device not available, using CPU.') \n",
    "# model = ConvAEC().to(device)"
   ]
  },
  {
   "cell_type": "code",
   "execution_count": 5,
   "metadata": {},
   "outputs": [
    {
     "data": {
      "text/plain": [
       "torch.Size([800, 1, 64, 128])"
      ]
     },
     "execution_count": 5,
     "metadata": {},
     "output_type": "execute_result"
    }
   ],
   "source": [
    "model(X_train).size()"
   ]
  },
  {
   "cell_type": "code",
   "execution_count": 6,
   "metadata": {},
   "outputs": [],
   "source": [
    "writer = SummaryWriter('test_tensorboard')"
   ]
  },
  {
   "cell_type": "code",
   "execution_count": null,
   "metadata": {},
   "outputs": [],
   "source": []
  }
 ],
 "metadata": {
  "kernelspec": {
   "display_name": "RISClusterPT",
   "language": "python",
   "name": "risclusterpt"
  },
  "language_info": {
   "codemirror_mode": {
    "name": "ipython",
    "version": 3
   },
   "file_extension": ".py",
   "mimetype": "text/x-python",
   "name": "python",
   "nbconvert_exporter": "python",
   "pygments_lexer": "ipython3",
   "version": "3.8.3"
  }
 },
 "nbformat": 4,
 "nbformat_minor": 4
}
