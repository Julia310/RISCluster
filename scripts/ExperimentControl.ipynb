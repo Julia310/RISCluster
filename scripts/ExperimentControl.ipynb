{
 "cells": [
  {
   "cell_type": "markdown",
   "metadata": {},
   "source": [
    "# Experiment Control: Full"
   ]
  },
  {
   "cell_type": "markdown",
   "metadata": {},
   "source": [
    "<a id=\"contents\"></a>\n",
    "## Contents\n",
    "\n",
    "1. <a href=\"#section1\">Set Universal Experiment Parameters</a>\n",
    "2. <a href=\"#section2\">Pre-train Deep Clustering Model</a>\n",
    "3. <a href=\"#section3\">Train Deep Clustering Model</a>\n",
    "4. <a href=\"#section4\">Cluster Entire Dataset</a>\n",
    "6. <a href=\"#section5\">Evaluate Optimal Number of Clusters</a>"
   ]
  },
  {
   "cell_type": "code",
   "execution_count": 1,
   "metadata": {},
   "outputs": [],
   "source": [
    "import importlib as imp\n",
    "import os\n",
    "import sys\n",
    "sys.path.insert(0, '../RISCluster/')\n",
    "\n",
    "from IPython.display import Markdown as md\n",
    "import matplotlib\n",
    "%matplotlib inline\n",
    "import matplotlib.pyplot as plt\n",
    "import numpy as np\n",
    "import seaborn as sns\n",
    "if sys.platform == 'darwin':\n",
    "    from sklearn.manifold import TSNE\n",
    "elif sys.platform == 'linux':\n",
    "    from cuml import TSNE\n",
    "import torch\n",
    "from torch.utils.data import DataLoader, Subset\n",
    "from torchsummary import summary\n",
    "from torchvision import transforms\n",
    "from tqdm import tqdm\n",
    "\n",
    "import models\n",
    "from networks import AEC, DCM\n",
    "import plotting\n",
    "import utils"
   ]
  },
  {
   "cell_type": "markdown",
   "metadata": {},
   "source": [
    "<a id=\"section1\"></a>\n",
    "## 1. Set Universal Experiment Parameters"
   ]
  },
  {
   "cell_type": "code",
   "execution_count": 2,
   "metadata": {},
   "outputs": [
    {
     "name": "stdout",
     "output_type": "stream",
     "text": [
      " >> h5 dataset contains 427798 samples with dimensions [88,101]. <<\n"
     ]
    }
   ],
   "source": [
    "exp_name = 'Full'\n",
    "fname_dataset = f'../../../Data/{exp_name}/{exp_name}.h5'\n",
    "%run QueryDB $fname_dataset\n",
    "\n",
    "# Generate new sample index for data set?\n",
    "genflag = False"
   ]
  },
  {
   "cell_type": "code",
   "execution_count": null,
   "metadata": {},
   "outputs": [],
   "source": [
    "if genflag:\n",
    "    M = 125000\n",
    "    savepath = f'../../../Data/{exp_name}'\n",
    "    %run GenerateSampleIndex.py $M $fname_dataset $savepath"
   ]
  },
  {
   "cell_type": "code",
   "execution_count": 3,
   "metadata": {},
   "outputs": [
    {
     "name": "stdout",
     "output_type": "stream",
     "text": [
      "CUDA device available, using GPU.\n"
     ]
    }
   ],
   "source": [
    "universal = {\n",
    "    'exp_name': exp_name,\n",
    "    'fname_dataset': fname_dataset,\n",
    "    'savepath': f'../../../Experiments/{exp_name}',\n",
    "    'indexpath': f'../../../Data/{exp_name}/TraValIndex_M=125000.pkl'\n",
    "}\n",
    "device = utils.set_device()\n",
    "transform = 'sample_norm_cent'\n",
    "dataset = utils.H5SeismicDataset(\n",
    "    fname_dataset,\n",
    "    transform=transforms.Compose(\n",
    "        [utils.SpecgramShaper(), utils.SpecgramToTensor()]\n",
    "    )\n",
    ")"
   ]
  },
  {
   "cell_type": "markdown",
   "metadata": {},
   "source": [
    "<a href=\"#contents\">Return to Top</a>\n",
    "<a id=\"section2\"></a>\n",
    "## 2. Pre-train Deep Clustering Model"
   ]
  },
  {
   "cell_type": "markdown",
   "metadata": {},
   "source": [
    "### 2.1 Autoencoder Architecture"
   ]
  },
  {
   "cell_type": "code",
   "execution_count": null,
   "metadata": {},
   "outputs": [],
   "source": [
    "model_display = AEC().to(device)\n",
    "summary(model_display, (1, 87, 100))"
   ]
  },
  {
   "cell_type": "markdown",
   "metadata": {},
   "source": [
    "### 2.2 Configure Pre-training"
   ]
  },
  {
   "cell_type": "code",
   "execution_count": null,
   "metadata": {},
   "outputs": [],
   "source": [
    "# Image Sample Indexes for Example Waveforms:\n",
    "img_index = '403049, 334383, 300610, 381290'\n",
    "\n",
    "parameters = {\n",
    "    'mode': 'pretrain',\n",
    "    'n_epochs': 500,\n",
    "    'show': False,\n",
    "    'send_message': True,\n",
    "    'early_stopping': True,\n",
    "    'patience': 10,\n",
    "    'transform': 'sample_norm_cent',\n",
    "    'img_index': img_index,\n",
    "    'km_metrics': False,\n",
    "    'klist': '2, 20',\n",
    "    'tb': True,\n",
    "    'tbport': 6999,\n",
    "    'workers': 16\n",
    "}\n",
    "hyperparameters = {\n",
    "    'batch_size': '256, 512, 1024',\n",
    "    'lr': '0.0001, 0.001'\n",
    "}\n",
    "init_path = utils.config_training(universal, parameters, hyperparameters)"
   ]
  },
  {
   "cell_type": "markdown",
   "metadata": {},
   "source": [
    "### 2.3 View Detection Examples"
   ]
  },
  {
   "cell_type": "code",
   "execution_count": null,
   "metadata": {},
   "outputs": [],
   "source": [
    "imp.reload(plotting)\n",
    "\n",
    "img_index_ = list(map(int, img_index.split(sep=',')))\n",
    "fig = plotting.view_detections(fname_dataset, img_index_)\n",
    "# fig.savefig(f\"{universal['savepath']}/DetectExamples_{exp_name}.png\", dpi=300)"
   ]
  },
  {
   "cell_type": "markdown",
   "metadata": {},
   "source": [
    "### 2.4 Pre-train Autoencoder"
   ]
  },
  {
   "cell_type": "code",
   "execution_count": null,
   "metadata": {},
   "outputs": [],
   "source": [
    "md(f\"To run the pre-training script, run the following code in the terminal with the proper ```conda``` environment activated:<br>```python runDCM.py {init_path}```\")"
   ]
  },
  {
   "cell_type": "markdown",
   "metadata": {},
   "source": [
    "<a id=\"BestAEC\"></a>\n",
    "### 2.5 Select Best Pre-training Run"
   ]
  },
  {
   "cell_type": "markdown",
   "metadata": {},
   "source": [
    "From hyperparameter tuning, the best model is:"
   ]
  },
  {
   "cell_type": "code",
   "execution_count": null,
   "metadata": {},
   "outputs": [],
   "source": [
    "batch_size = 256\n",
    "LR = 0.001\n",
    "\n",
    "expserial = 'Exp20201220T091211'\n",
    "runserial = f'Run_BatchSz={batch_size}_LR={LR}'\n",
    "exp_path = f\"../../../Experiments/{exp_name}/Models/AEC/{expserial}/{runserial}\"\n",
    "\n",
    "AEC_weights = f\"{exp_path}/AEC_Params_Final.pt\""
   ]
  },
  {
   "cell_type": "markdown",
   "metadata": {},
   "source": [
    "Return to <a href=\"#ConfigDCM\">Section 3.2</a>.<br>\n",
    "Return to <a href=\"#section5\">Section 5</a>."
   ]
  },
  {
   "cell_type": "markdown",
   "metadata": {},
   "source": [
    "### 2.6 View Autoencoder Performance"
   ]
  },
  {
   "cell_type": "code",
   "execution_count": null,
   "metadata": {},
   "outputs": [],
   "source": [
    "path = f\"{exp_path}/snapshots\"\n",
    "imgfile = f\"{path}/{sorted(os.listdir(path))[-1]}\"\n",
    "img = matplotlib.image.imread(imgfile)\n",
    "plt.figure(figsize=(12,6))\n",
    "plt.imshow(img)\n",
    "plt.show()"
   ]
  },
  {
   "cell_type": "markdown",
   "metadata": {},
   "source": [
    "<a href=\"#contents\">Return to Top</a>\n",
    "<a id=\"section3\"></a>\n",
    "## 3. Train Deep Clustering Model"
   ]
  },
  {
   "cell_type": "markdown",
   "metadata": {},
   "source": [
    "### 3.1 DCM Architecture"
   ]
  },
  {
   "cell_type": "code",
   "execution_count": null,
   "metadata": {},
   "outputs": [],
   "source": [
    "model_display = DCM(n_clusters=5).to(device)\n",
    "summary(model_display, (1, 69, 175))"
   ]
  },
  {
   "cell_type": "markdown",
   "metadata": {},
   "source": [
    "<a id=\"ConfigDCM\"></a>\n",
    "### 3.2 Configure Training\n",
    "Run <a href=\"#BestAEC\">2.5</a> first to get AEC weights."
   ]
  },
  {
   "cell_type": "code",
   "execution_count": null,
   "metadata": {},
   "outputs": [],
   "source": [
    "parameters = {\n",
    "    'mode': 'train',\n",
    "    'n_epochs': 400,\n",
    "    'update_interval': -1,\n",
    "    'show': False,\n",
    "    'send_message': True,\n",
    "    'saved_weights': AEC_weights,\n",
    "    'transform': 'sample_norm_cent',\n",
    "    'tb': True,\n",
    "    'tbport': 6999,\n",
    "    'workers': 16,\n",
    "    'init': 'gmm'\n",
    "}\n",
    "hyperparameters = {\n",
    "    'n_clusters': '6, 7, 8, 9',\n",
    "    'batch_size': '1024',\n",
    "    'lr': '0.001',\n",
    "    'gamma': '0.05',\n",
    "    'tol': 0.002\n",
    "}\n",
    "init_path = utils.config_training(universal, parameters, hyperparameters)"
   ]
  },
  {
   "cell_type": "markdown",
   "metadata": {},
   "source": [
    "### 3.3 Train Model"
   ]
  },
  {
   "cell_type": "code",
   "execution_count": null,
   "metadata": {},
   "outputs": [],
   "source": [
    "md(f\"To run the training script, run the following code in the terminal with the proper ```conda``` environment activated:<br>```python runDCM.py {init_path}```\")"
   ]
  },
  {
   "cell_type": "markdown",
   "metadata": {},
   "source": [
    "<a id=\"BestDCM\"></a>\n",
    "### 3.4 Select Best DEC Run\n",
    "From hyperparameter tuning, the best model is:"
   ]
  },
  {
   "cell_type": "code",
   "execution_count": 4,
   "metadata": {},
   "outputs": [],
   "source": [
    "n_clusters = 8\n",
    "batch_size = 1024\n",
    "LR = 0.001\n",
    "\n",
    "expserial = 'Exp20201226T120534'\n",
    "runserial = f'Run_Clusters={n_clusters}_BatchSz={batch_size}_LR={LR}_gamma=0.05_tol=0.002'\n",
    "exp_path = f\"../../../Experiments/{exp_name}/Models/DCM/{expserial}/{runserial}\"\n",
    "DCM_weights = f\"{exp_path}/DCM_Params_Final.pt\""
   ]
  },
  {
   "cell_type": "markdown",
   "metadata": {},
   "source": [
    "Return to <a href=\"#section4\">Section 4</a>."
   ]
  },
  {
   "cell_type": "markdown",
   "metadata": {},
   "source": [
    "### 3.5 Evaluate Training"
   ]
  },
  {
   "cell_type": "markdown",
   "metadata": {},
   "source": [
    "#### 3.5.1 Load Data and Model Parameters"
   ]
  },
  {
   "cell_type": "code",
   "execution_count": null,
   "metadata": {},
   "outputs": [],
   "source": [
    "index_tra, _ = utils.load_TraVal_index(fname_dataset, universal['indexpath'])\n",
    "tra_dataset = Subset(dataset, index_tra)\n",
    "dataloader = DataLoader(tra_dataset, batch_size=1024, num_workers=16)\n",
    "\n",
    "DCM_weights1 = f\"{exp_path}/DCM_Params_Initial.pt\"\n",
    "DCM_weights2 = DCM_weights\n",
    "\n",
    "model1 = DCM(n_clusters).to(device)\n",
    "model1 = utils.load_weights(model1, DCM_weights1, device)\n",
    "model2 = DCM(n_clusters).to(device)\n",
    "model2 = utils.load_weights(model2, DCM_weights2, device)\n",
    "\n",
    "centroids1 = model1.clustering.weights.detach().cpu().numpy()\n",
    "centroids2 = model2.clustering.weights.detach().cpu().numpy()\n",
    "\n",
    "data1 = models.infer_z(dataloader, model1, device, v=True)\n",
    "data2 = models.infer_z(dataloader, model2, device, v=True)\n",
    "\n",
    "_, labels1 = models.infer_labels(dataloader, model1, device)\n",
    "_, labels2 = models.infer_labels(dataloader, model2, device)"
   ]
  },
  {
   "cell_type": "markdown",
   "metadata": {},
   "source": [
    "#### 3.5.2 View Results"
   ]
  },
  {
   "cell_type": "code",
   "execution_count": null,
   "metadata": {},
   "outputs": [],
   "source": [
    "imp.reload(plotting)\n",
    "p = 2\n",
    "fig = plotting.cluster_gallery(\n",
    "    model2,\n",
    "    dataloader.dataset,\n",
    "    fname_dataset,\n",
    "    index_tra,\n",
    "    device,\n",
    "    data2,\n",
    "    labels2,\n",
    "    centroids2,\n",
    "    p,\n",
    "    True,\n",
    "    True\n",
    ")"
   ]
  },
  {
   "cell_type": "code",
   "execution_count": null,
   "metadata": {},
   "outputs": [],
   "source": [
    "fig.savefig('gallery.png', dpi=300)"
   ]
  },
  {
   "cell_type": "markdown",
   "metadata": {},
   "source": [
    "#### 3.5.3 View t-SNE Results"
   ]
  },
  {
   "cell_type": "code",
   "execution_count": null,
   "metadata": {},
   "outputs": [],
   "source": [
    "M = len(data1)\n",
    "# results1 = TSNE(n_components=2, perplexity=int(M/50), early_exaggeration=2000, learning_rate=int(M/25), n_iter=2500, verbose=0, random_state=2009).fit_transform(data1.astype('float64'))\n",
    "# results2 = TSNE(n_components=2, perplexity=int(M/50), early_exaggeration=2000, learning_rate=int(M/25), n_iter=2500, verbose=0, random_state=2009).fit_transform(data2.astype('float64'))\n",
    "fig1 = plotting.view_TSNE(results1, labels1, 't-SNE: Epoch 0', True)\n",
    "fig2 = plotting.view_TSNE(results2, labels2, 't-SNE: Epoch 105', True)"
   ]
  },
  {
   "cell_type": "code",
   "execution_count": null,
   "metadata": {},
   "outputs": [],
   "source": [
    "fig1.savefig('tSNE_i.png', dpi=300)\n",
    "fig2.savefig('tSNE_f.png', dpi=300)"
   ]
  },
  {
   "cell_type": "markdown",
   "metadata": {},
   "source": [
    "#### 3.5.4 View DEC Dashboard"
   ]
  },
  {
   "cell_type": "code",
   "execution_count": null,
   "metadata": {},
   "outputs": [],
   "source": [
    "imp.reload(plotting)\n",
    "p = 2\n",
    "fig = plotting.centroid_dashboard(\n",
    "    data2,\n",
    "    labels2,\n",
    "    centroids2,\n",
    "    n_clusters,\n",
    "    p,\n",
    "    True\n",
    ")"
   ]
  },
  {
   "cell_type": "markdown",
   "metadata": {},
   "source": [
    "#### 3.5.5 View Centroid Distance Matrix"
   ]
  },
  {
   "cell_type": "code",
   "execution_count": null,
   "metadata": {},
   "outputs": [],
   "source": [
    "p = 2\n",
    "fig = plotting.centroid_distances(\n",
    "    data2,\n",
    "    labels2,\n",
    "    centroids2,\n",
    "    n_clusters,\n",
    "    p,\n",
    "    True\n",
    ")"
   ]
  },
  {
   "cell_type": "markdown",
   "metadata": {},
   "source": [
    "#### 3.5.6 View Latent Space"
   ]
  },
  {
   "cell_type": "code",
   "execution_count": null,
   "metadata": {},
   "outputs": [],
   "source": [
    "imp.reload(plotting)\n",
    "p = 2\n",
    "fig = plotting.view_latent_space(\n",
    "    data1,\n",
    "    data2,\n",
    "    labels1,\n",
    "    labels2,\n",
    "    centroids1,\n",
    "    centroids2,\n",
    "    n_clusters,\n",
    "    p,\n",
    "    True,\n",
    "    True\n",
    ")"
   ]
  },
  {
   "cell_type": "code",
   "execution_count": null,
   "metadata": {},
   "outputs": [],
   "source": [
    "fig.savefig('zspace.png', dpi=300)"
   ]
  },
  {
   "cell_type": "markdown",
   "metadata": {},
   "source": [
    "#### 3.5.7 View CDF"
   ]
  },
  {
   "cell_type": "code",
   "execution_count": null,
   "metadata": {},
   "outputs": [],
   "source": [
    "imp.reload(plotting)\n",
    "p = 2\n",
    "fig = plotting.view_class_cdf(\n",
    "    data1,\n",
    "    data2,\n",
    "    labels1,\n",
    "    labels2,\n",
    "    centroids1,\n",
    "    centroids2,\n",
    "    n_clusters,\n",
    "    p,\n",
    "    True,\n",
    "    True\n",
    ")"
   ]
  },
  {
   "cell_type": "code",
   "execution_count": null,
   "metadata": {},
   "outputs": [],
   "source": [
    "fig.savefig('CDF.png', dpi=300)"
   ]
  },
  {
   "cell_type": "markdown",
   "metadata": {},
   "source": [
    "#### 3.5.8 View PDF"
   ]
  },
  {
   "cell_type": "code",
   "execution_count": null,
   "metadata": {},
   "outputs": [],
   "source": [
    "p = 2\n",
    "fig = plotting.view_class_pdf(\n",
    "    data1,\n",
    "    data2,\n",
    "    labels1,\n",
    "    labels2,\n",
    "    centroids1,\n",
    "    centroids2,\n",
    "    n_clusters,\n",
    "    p,\n",
    "    True,\n",
    "    True\n",
    ")"
   ]
  },
  {
   "cell_type": "code",
   "execution_count": null,
   "metadata": {},
   "outputs": [],
   "source": [
    "fig.savefig('PDF.png', dpi=300)"
   ]
  },
  {
   "cell_type": "markdown",
   "metadata": {},
   "source": [
    "<a href=\"#contents\">Return to Top</a>\n",
    "<a id=\"section4\"></a>\n",
    "## 4. Cluster Entire Dataset\n",
    "Run <a href=\"#BestDCM\">3.4</a> first to get DCM weights."
   ]
  },
  {
   "cell_type": "code",
   "execution_count": 5,
   "metadata": {},
   "outputs": [],
   "source": [
    "parameters = {\n",
    "    'mode': 'predict',\n",
    "    'send_message': False,\n",
    "    'saved_weights': DCM_weights,\n",
    "    'transform': 'sample_norm_cent',\n",
    "    'workers': 16,\n",
    "    'tb': False\n",
    "}\n",
    "init_path = utils.config_training(universal, parameters)"
   ]
  },
  {
   "cell_type": "code",
   "execution_count": 6,
   "metadata": {},
   "outputs": [
    {
     "data": {
      "text/markdown": [
       "To run the prediction script, run the following code in the terminal with the proper ```conda``` environment activated:<br>```python runDCM.py ../../../Experiments/Full/init_predict.ini```"
      ],
      "text/plain": [
       "<IPython.core.display.Markdown object>"
      ]
     },
     "execution_count": 6,
     "metadata": {},
     "output_type": "execute_result"
    }
   ],
   "source": [
    "md(f\"To run the prediction script, run the following code in the terminal with the proper ```conda``` environment activated:<br>```python runDCM.py {init_path}```\")"
   ]
  },
  {
   "cell_type": "markdown",
   "metadata": {},
   "source": [
    "<a href=\"#contents\">Return to Top</a>\n",
    "<a id=\"section5\"></a>\n",
    "## 5. Evaluate Optimal Number of Clusters"
   ]
  },
  {
   "cell_type": "markdown",
   "metadata": {},
   "source": [
    "### 5.1 Load Data\n",
    "Run <a href=\"#BestAEC\">2.5</a> first to get AEC weights."
   ]
  },
  {
   "cell_type": "code",
   "execution_count": null,
   "metadata": {},
   "outputs": [],
   "source": [
    "index_tra, _ = utils.load_TraVal_index(fname_dataset, universal['indexpath'])\n",
    "\n",
    "tra_dataset = Subset(dataset, index_tra)\n",
    "dataloader = DataLoader(tra_dataset, batch_size=512, num_workers=16)\n",
    "\n",
    "model = AEC().to(device)\n",
    "model = utils.load_weights(model, AEC_weights, device)"
   ]
  },
  {
   "cell_type": "markdown",
   "metadata": {},
   "source": [
    "### 5.2 Compute K-means Metrics"
   ]
  },
  {
   "cell_type": "code",
   "execution_count": null,
   "metadata": {},
   "outputs": [],
   "source": [
    "# klist = parameters['klist']\n",
    "klist = '2, 20'\n",
    "klist = np.arange(int(klist.split(',')[0]), int(klist.split(',')[1])+1)\n",
    "inertia, silh, gap_g, gap_u = models.kmeans_metrics(dataloader, model, device, klist)"
   ]
  },
  {
   "cell_type": "markdown",
   "metadata": {},
   "source": [
    "### 5.3 Plot Metrics"
   ]
  },
  {
   "cell_type": "code",
   "execution_count": null,
   "metadata": {
    "scrolled": true
   },
   "outputs": [],
   "source": [
    "fig = plotting.view_cluster_stats(klist, inertia, silh, gap_g, gap_u, show=True)\n",
    "np.save('kmeans_inertia', inertia)\n",
    "# savepath = 'test.png'\n",
    "# fig.savefig(savepath)"
   ]
  }
 ],
 "metadata": {
  "kernelspec": {
   "display_name": "RISClusterPT",
   "language": "python",
   "name": "risclusterpt"
  },
  "language_info": {
   "codemirror_mode": {
    "name": "ipython",
    "version": 3
   },
   "file_extension": ".py",
   "mimetype": "text/x-python",
   "name": "python",
   "nbconvert_exporter": "python",
   "pygments_lexer": "ipython3",
   "version": "3.8.5"
  }
 },
 "nbformat": 4,
 "nbformat_minor": 4
}
